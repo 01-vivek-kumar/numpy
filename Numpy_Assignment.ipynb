{
  "nbformat": 4,
  "nbformat_minor": 0,
  "metadata": {
    "colab": {
      "provenance": []
    },
    "kernelspec": {
      "name": "python3",
      "display_name": "Python 3"
    },
    "language_info": {
      "name": "python"
    }
  },
  "cells": [
    {
      "cell_type": "markdown",
      "source": [
        "1. Create a 3x3 NumPy array with random integers between 1 and 100. Then, interchange its rows and columns\n"
      ],
      "metadata": {
        "id": "w-EJKUsel7_c"
      }
    },
    {
      "cell_type": "code",
      "source": [
        "import numpy as np\n"
      ],
      "metadata": {
        "id": "QeUUI_0ol_oV"
      },
      "execution_count": 32,
      "outputs": []
    },
    {
      "cell_type": "code",
      "source": [
        "vivek = np.random.randint(1,100, (3,3 ))\n",
        "print(vivek)"
      ],
      "metadata": {
        "colab": {
          "base_uri": "https://localhost:8080/"
        },
        "id": "jR0acOfAmDRh",
        "outputId": "a465475c-66bd-46fc-aa77-38f064d781d8"
      },
      "execution_count": 2,
      "outputs": [
        {
          "output_type": "stream",
          "name": "stdout",
          "text": [
            "[[48 14  4]\n",
            " [76 75 51]\n",
            " [44 40 71]]\n"
          ]
        }
      ]
    },
    {
      "cell_type": "markdown",
      "source": [
        "2. Generate a 1D NumPy array with 10 elements. Reshape it into a 2x5 array, then into a 5x2 array"
      ],
      "metadata": {
        "id": "Bq-phiQnmW-y"
      }
    },
    {
      "cell_type": "code",
      "source": [
        "arr = np.array(range(10))\n",
        "arr2X5 = arr.reshape(2,5)\n",
        "print(arr2X5)"
      ],
      "metadata": {
        "colab": {
          "base_uri": "https://localhost:8080/"
        },
        "id": "rmtGR4UNmZ4U",
        "outputId": "230293d1-0c04-4948-d9a1-75b3a8652ada"
      },
      "execution_count": 9,
      "outputs": [
        {
          "output_type": "stream",
          "name": "stdout",
          "text": [
            "[[0 1 2 3 4]\n",
            " [5 6 7 8 9]]\n"
          ]
        }
      ]
    },
    {
      "cell_type": "code",
      "source": [
        "arr5X2 = arr2X5.reshape(5,2)\n",
        "print(arr5X2)"
      ],
      "metadata": {
        "colab": {
          "base_uri": "https://localhost:8080/"
        },
        "id": "FVsfAuJvnbya",
        "outputId": "136ac876-d9f3-4b1d-d97a-58d35c65aa9b"
      },
      "execution_count": 10,
      "outputs": [
        {
          "output_type": "stream",
          "name": "stdout",
          "text": [
            "[[0 1]\n",
            " [2 3]\n",
            " [4 5]\n",
            " [6 7]\n",
            " [8 9]]\n"
          ]
        }
      ]
    },
    {
      "cell_type": "markdown",
      "source": [
        "3. Create a 4x4 NumPy array with random float values. Add a border of zeros around it, resulting in a 6x6 array"
      ],
      "metadata": {
        "id": "INpGtDxRnlD6"
      }
    },
    {
      "cell_type": "code",
      "source": [
        "arr4X4 = np.random.random((4,4))\n",
        "print(arr4X4)"
      ],
      "metadata": {
        "colab": {
          "base_uri": "https://localhost:8080/"
        },
        "id": "fRQeXAjRnpQw",
        "outputId": "0b75485f-4b57-427b-b242-7afb4ad9e8b3"
      },
      "execution_count": 11,
      "outputs": [
        {
          "output_type": "stream",
          "name": "stdout",
          "text": [
            "[[0.48630846 0.5392204  0.864656   0.48335994]\n",
            " [0.4066141  0.92907737 0.29441076 0.91577021]\n",
            " [0.67124844 0.90865268 0.67168678 0.82193924]\n",
            " [0.39249114 0.99544322 0.06295661 0.2846357 ]]\n"
          ]
        }
      ]
    },
    {
      "cell_type": "code",
      "source": [
        "arr6X6 = np.pad(arr4X4, pad_width=1, mode='constant', constant_values=0)\n",
        "print(arr6X6)"
      ],
      "metadata": {
        "colab": {
          "base_uri": "https://localhost:8080/"
        },
        "id": "LtoCjZb_oNaP",
        "outputId": "d7164119-e88d-479e-9576-f7ccbbe8f8ed"
      },
      "execution_count": 19,
      "outputs": [
        {
          "output_type": "stream",
          "name": "stdout",
          "text": [
            "[[0.         0.         0.         0.         0.         0.        ]\n",
            " [0.         0.48630846 0.5392204  0.864656   0.48335994 0.        ]\n",
            " [0.         0.4066141  0.92907737 0.29441076 0.91577021 0.        ]\n",
            " [0.         0.67124844 0.90865268 0.67168678 0.82193924 0.        ]\n",
            " [0.         0.39249114 0.99544322 0.06295661 0.2846357  0.        ]\n",
            " [0.         0.         0.         0.         0.         0.        ]]\n"
          ]
        }
      ]
    },
    {
      "cell_type": "markdown",
      "source": [
        "4. Using NumPy, create an array of integers from 10 to 60 with a step of 5."
      ],
      "metadata": {
        "id": "XmfA8bRJoil2"
      }
    },
    {
      "cell_type": "code",
      "source": [
        "arr1 = np.arange(10,61, 5)\n",
        "print(arr1)"
      ],
      "metadata": {
        "colab": {
          "base_uri": "https://localhost:8080/"
        },
        "id": "0H0bcQ72oms5",
        "outputId": "d5b212e6-5fee-4b04-ea86-afd765d6a311"
      },
      "execution_count": 22,
      "outputs": [
        {
          "output_type": "stream",
          "name": "stdout",
          "text": [
            "[10 15 20 25 30 35 40 45 50 55 60]\n"
          ]
        }
      ]
    },
    {
      "cell_type": "markdown",
      "source": [
        "5. Create a NumPy array of strings ['python', 'numpy', 'pandas']. Apply different case transformations\n",
        "(uppercase, lowercase, title case, etc.) to each element."
      ],
      "metadata": {
        "id": "STfM9yFLppU0"
      }
    },
    {
      "cell_type": "code",
      "source": [
        "arr_str = np.array(['python', 'numpy', 'pandas'])\n",
        "arr_str_upper = np.char.upper(arr_str)\n",
        "print(arr_str_upper)"
      ],
      "metadata": {
        "colab": {
          "base_uri": "https://localhost:8080/"
        },
        "id": "VFLpzVKeptJ5",
        "outputId": "9c4d52f9-cc97-46b2-e3e2-000c49dd7bc0"
      },
      "execution_count": 29,
      "outputs": [
        {
          "output_type": "stream",
          "name": "stdout",
          "text": [
            "['PYTHON' 'NUMPY' 'PANDAS']\n"
          ]
        }
      ]
    },
    {
      "cell_type": "code",
      "source": [
        "arr_str_lower = np.char.lower(arr_str)\n",
        "print(arr_str_lower)"
      ],
      "metadata": {
        "colab": {
          "base_uri": "https://localhost:8080/"
        },
        "id": "GekkUn2_qNRW",
        "outputId": "f17ef124-dab4-4fcc-ddf0-984565352f56"
      },
      "execution_count": 26,
      "outputs": [
        {
          "output_type": "stream",
          "name": "stdout",
          "text": [
            "['python' 'numpy' 'pandas']\n"
          ]
        }
      ]
    },
    {
      "cell_type": "markdown",
      "source": [
        "6. Generate a NumPy array of words. Insert a space between each character of every word in the array"
      ],
      "metadata": {
        "id": "vAsA__0bqSHJ"
      }
    },
    {
      "cell_type": "code",
      "source": [
        "word = np.array([\"Vivek\", \"Kumar\"])\n",
        "str_space = np.char.join(\" \", word)\n",
        "print(str_space)"
      ],
      "metadata": {
        "colab": {
          "base_uri": "https://localhost:8080/"
        },
        "id": "k913edpKqUgF",
        "outputId": "efeca56c-f468-4faf-db52-b3d4dff4e1be"
      },
      "execution_count": 34,
      "outputs": [
        {
          "output_type": "stream",
          "name": "stdout",
          "text": [
            "['V i v e k' 'K u m a r']\n"
          ]
        }
      ]
    },
    {
      "cell_type": "markdown",
      "source": [
        "7. Create two 2D NumPy arrays and perform element-wise addition, subtraction, multiplication, and division."
      ],
      "metadata": {
        "id": "tLMEUjOqsLX7"
      }
    },
    {
      "cell_type": "code",
      "source": [
        "arr = np.array([[1,2,3], [4,5,6]])\n",
        "arr2 = np.array([[7,8,9], [10,11,12]])\n",
        "arr_add = np.add(arr, arr2)\n",
        "print(arr_add)"
      ],
      "metadata": {
        "colab": {
          "base_uri": "https://localhost:8080/"
        },
        "id": "DrvUbOcnsMhm",
        "outputId": "f3c9ec13-c139-4969-e33a-5abf11c3201b"
      },
      "execution_count": 35,
      "outputs": [
        {
          "output_type": "stream",
          "name": "stdout",
          "text": [
            "[[ 8 10 12]\n",
            " [14 16 18]]\n"
          ]
        }
      ]
    },
    {
      "cell_type": "code",
      "source": [
        "arr_sub = np.subtract(arr, arr2)\n",
        "print(arr_sub)"
      ],
      "metadata": {
        "colab": {
          "base_uri": "https://localhost:8080/"
        },
        "id": "RYjjXFdmsuw8",
        "outputId": "b1655f98-5698-4e06-9f4f-62bd116f1d0f"
      },
      "execution_count": 36,
      "outputs": [
        {
          "output_type": "stream",
          "name": "stdout",
          "text": [
            "[[-6 -6 -6]\n",
            " [-6 -6 -6]]\n"
          ]
        }
      ]
    },
    {
      "cell_type": "code",
      "source": [
        "arr_mul = arr*arr2\n",
        "print(arr_mul)"
      ],
      "metadata": {
        "colab": {
          "base_uri": "https://localhost:8080/"
        },
        "id": "JnmhpvBBs6yB",
        "outputId": "8c1e9473-05ce-4439-bec3-a62a55b0b7af"
      },
      "execution_count": 38,
      "outputs": [
        {
          "output_type": "stream",
          "name": "stdout",
          "text": [
            "[[ 7 16 27]\n",
            " [40 55 72]]\n"
          ]
        }
      ]
    },
    {
      "cell_type": "code",
      "source": [
        "arr_div = np.divide(arr, arr2)\n",
        "print(arr_div)"
      ],
      "metadata": {
        "colab": {
          "base_uri": "https://localhost:8080/"
        },
        "id": "hdF4ysortGNh",
        "outputId": "ac563579-2543-45d8-f931-30989a1abd1f"
      },
      "execution_count": 40,
      "outputs": [
        {
          "output_type": "stream",
          "name": "stdout",
          "text": [
            "[[0.14285714 0.25       0.33333333]\n",
            " [0.4        0.45454545 0.5       ]]\n"
          ]
        }
      ]
    },
    {
      "cell_type": "markdown",
      "source": [
        "8. Use NumPy to create a 5x5 identity matrix, then extract its diagonal elements."
      ],
      "metadata": {
        "id": "VROVSbGbtPUD"
      }
    },
    {
      "cell_type": "code",
      "source": [
        "arr_identity = np.eye(5,5)\n",
        "print(arr_identity)"
      ],
      "metadata": {
        "colab": {
          "base_uri": "https://localhost:8080/"
        },
        "id": "-7peJ89stR0B",
        "outputId": "bec02e06-fabc-4c66-d221-34aaa188bc60"
      },
      "execution_count": 41,
      "outputs": [
        {
          "output_type": "stream",
          "name": "stdout",
          "text": [
            "[[1. 0. 0. 0. 0.]\n",
            " [0. 1. 0. 0. 0.]\n",
            " [0. 0. 1. 0. 0.]\n",
            " [0. 0. 0. 1. 0.]\n",
            " [0. 0. 0. 0. 1.]]\n"
          ]
        }
      ]
    },
    {
      "cell_type": "code",
      "source": [
        "arr_diag = np.diagonal(arr_identity)\n",
        "print(arr_diag)"
      ],
      "metadata": {
        "colab": {
          "base_uri": "https://localhost:8080/"
        },
        "id": "s5pstNZKp9ik",
        "outputId": "c40e2b3f-e439-468d-f9d1-9a1985112f9f"
      },
      "execution_count": 42,
      "outputs": [
        {
          "output_type": "stream",
          "name": "stdout",
          "text": [
            "[1. 1. 1. 1. 1.]\n"
          ]
        }
      ]
    },
    {
      "cell_type": "markdown",
      "source": [
        "9. Generate a NumPy array of 100 random integers between 0 and 1000. Find and display all prime numbers in\n",
        "this array"
      ],
      "metadata": {
        "id": "S-MBIEKiuRH9"
      }
    },
    {
      "cell_type": "code",
      "source": [
        "rand_100 = np.random.randint(0, 1000, 100)\n",
        "print(rand_100)"
      ],
      "metadata": {
        "colab": {
          "base_uri": "https://localhost:8080/"
        },
        "id": "CYtM-8eKuR2i",
        "outputId": "37d43027-c5ba-4efe-e8d8-99df6142cd8e"
      },
      "execution_count": 44,
      "outputs": [
        {
          "output_type": "stream",
          "name": "stdout",
          "text": [
            "[570 545 184 815 571 101 608  42 618 573 204 534 479 667   6 406 732 655\n",
            " 398  14 715  92 119  48 938 407 850 930 999 672 801 572 723 523 636 373\n",
            " 784 579 771 681 233 325 365 430 476 650 991 296  36 989 773  16 264 998\n",
            " 449 495 449 332 218 141 695 490 788 174   6 579 112 922 941 100 945 376\n",
            " 808 366 728 469 101 943  60 920 580 901 279 239 770 563 883 709 477 811\n",
            "  35  87 921 905 862 878 791 336 144 494]\n"
          ]
        }
      ]
    },
    {
      "cell_type": "code",
      "source": [
        "for num in rand_100:\n",
        "  for i in range(2, num):\n",
        "    if num % i == 0:\n",
        "      break\n",
        "  else:\n",
        "    print(num)"
      ],
      "metadata": {
        "colab": {
          "base_uri": "https://localhost:8080/"
        },
        "id": "nijONxxzuoQC",
        "outputId": "38041136-ff88-40e8-887c-7f0e8c8300f7"
      },
      "execution_count": 48,
      "outputs": [
        {
          "output_type": "stream",
          "name": "stdout",
          "text": [
            "571\n",
            "101\n",
            "479\n",
            "523\n",
            "373\n",
            "233\n",
            "991\n",
            "773\n",
            "449\n",
            "449\n",
            "941\n",
            "101\n",
            "239\n",
            "563\n",
            "883\n",
            "709\n",
            "811\n"
          ]
        }
      ]
    },
    {
      "cell_type": "markdown",
      "source": [
        "10. Create a NumPy array representing daily temperatures for a month. Calculate and display the weekly\n",
        "averages"
      ],
      "metadata": {
        "id": "B3DuD1qiwXTR"
      }
    },
    {
      "cell_type": "code",
      "source": [
        "temp = np.random.randint(20, 40, 28)\n",
        "tem_weekly = temp.reshape(4,7) #reshaping for a month with 4 rows(week) and 7(days)\n",
        "print(tem_weekly)"
      ],
      "metadata": {
        "colab": {
          "base_uri": "https://localhost:8080/"
        },
        "id": "pslHcNHowaRx",
        "outputId": "8c72a884-a311-4e32-f903-81ed06fea650"
      },
      "execution_count": 52,
      "outputs": [
        {
          "output_type": "stream",
          "name": "stdout",
          "text": [
            "[[24 36 21 34 37 28 20]\n",
            " [36 35 21 32 36 29 33]\n",
            " [32 39 26 36 25 37 22]\n",
            " [27 27 23 28 31 30 32]]\n"
          ]
        }
      ]
    },
    {
      "cell_type": "code",
      "source": [
        "temp_avg_weekly = np.mean(tem_weekly, axis = 1)\n",
        "print(temp_avg_weekly)\n"
      ],
      "metadata": {
        "colab": {
          "base_uri": "https://localhost:8080/"
        },
        "id": "DkC0i_Bgx2U1",
        "outputId": "e0a5368e-facf-4a91-cb28-59458b627441"
      },
      "execution_count": 53,
      "outputs": [
        {
          "output_type": "stream",
          "name": "stdout",
          "text": [
            "[28.57142857 31.71428571 31.         28.28571429]\n"
          ]
        }
      ]
    }
  ]
}